{
 "cells": [
  {
   "cell_type": "markdown",
   "id": "ee4ac6bb",
   "metadata": {},
   "source": [
    "# College Major Analysis based on economical factors"
   ]
  },
  {
   "cell_type": "markdown",
   "id": "b0956540",
   "metadata": {},
   "source": [
    "## The goal of the analysis is to provide a data model that can help students and parents choose a college major and understand how big a financial difference it makes."
   ]
  },
  {
   "cell_type": "code",
   "execution_count": 1,
   "id": "e5eb9c88",
   "metadata": {},
   "outputs": [],
   "source": [
    "import pandas as pd\n",
    "from matplotlib import pyplot as plt\n",
    "import seaborn as sns\n",
    "import numpy as np\n",
    "import warnings\n",
    "warnings.simplefilter(action=\"ignore\", category=FutureWarning)"
   ]
  },
  {
   "cell_type": "code",
   "execution_count": 2,
   "id": "e93af134",
   "metadata": {},
   "outputs": [],
   "source": [
    "def load_data(filename):\n",
    "    \"\"\"Given a filename of a csv load data into a Pandas dataframe.\n",
    "\n",
    "        filename - string\n",
    "\n",
    "        return Pandas dataframe\n",
    "    \"\"\"\n",
    "    return pd.read_csv(filename, encoding='utf-8')"
   ]
  },
  {
   "cell_type": "markdown",
   "id": "0bf515a8",
   "metadata": {},
   "source": [
    "**The dataset files used for this analysis are:**\n",
    "1. all-ages.csv\n",
    "2. majors-list.csv\n",
    "3. women-stem.csv\n",
    "4. recent-grads.csv\n",
    "5. grad-students.csv"
   ]
  },
  {
   "cell_type": "markdown",
   "id": "3e83805d",
   "metadata": {},
   "source": [
    "## DataSet Information\n",
    "**Some columns used in the dataset are:**\n",
    "\n",
    "* Rank - Rank by median earnings (the dataset is ordered by this column).\n",
    "* Major_code - Major code.\n",
    "* Major - Major description.\n",
    "* Major_category - Category of major.\n",
    "* Total - Total number of people with major.\n",
    "* Sample_size - Sample size (unweighted) of full-time.\n",
    "* Men - Male graduates.\n",
    "* Women - Female graduates.\n",
    "* ShareWomen - Women as share of total.\n",
    "* Employed - Number employed.\n",
    "* Median - Median salary of full-time, year-round workers.\n",
    "* Low_wage_jobs - Number in low-wage service jobs.\n",
    "* Full_time - Number employed 35 hours or more.\n",
    "* Part_time - Number employed less than 35 hours.\n"
   ]
  },
  {
   "cell_type": "code",
   "execution_count": 3,
   "id": "faac8b9f",
   "metadata": {},
   "outputs": [],
   "source": [
    "all_ages = 'all-ages.csv'\n",
    "grad_students = 'grad-students.csv'\n",
    "majors_list = 'majors-list.csv'\n",
    "women_stem = 'women-stem.csv'\n",
    "recent_grads = 'recent-grads.csv'"
   ]
  },
  {
   "cell_type": "code",
   "execution_count": 4,
   "id": "a3a9cbb0",
   "metadata": {},
   "outputs": [],
   "source": [
    "all_ages_df = load_data(all_ages)\n",
    "recent_grads_df = load_data(recent_grads)\n",
    "grad_students_df = load_data(grad_students)\n",
    "majors_list_df = load_data(majors_list)\n",
    "women_stem_df = load_data(women_stem)"
   ]
  },
  {
   "cell_type": "markdown",
   "id": "2da6c2b0",
   "metadata": {},
   "source": [
    "## Data Cleaning (Removing records with missing values)"
   ]
  },
  {
   "cell_type": "code",
   "execution_count": 5,
   "id": "8a689a3b",
   "metadata": {},
   "outputs": [],
   "source": [
    "def remove_missing_values(df, df_name):\n",
    "    original_data_len = len(df)\n",
    "    print(\"Before removing the missing data and null values, the dataset '{}' has {} number of records\".format(df_name, original_data_len))\n",
    "    \n",
    "    #drop records with missing values\n",
    "    df.dropna(inplace = True)\n",
    "    \n",
    "    #Now again let's check the no. of records we have\n",
    "    cleaned_data_len = len(df)\n",
    "    print(\"After removing the missing data and null values, the dataset '{}' has {} number of records\\n\".format(df_name, cleaned_data_count))"
   ]
  },
  {
   "cell_type": "code",
   "execution_count": 6,
   "id": "02d953ed",
   "metadata": {},
   "outputs": [
    {
     "name": "stdout",
     "output_type": "stream",
     "text": [
      "Before removing the missing data and null values, the dataset 'all-ages.csv' has 173 number of records\n"
     ]
    },
    {
     "ename": "NameError",
     "evalue": "name 'cleaned_data_count' is not defined",
     "output_type": "error",
     "traceback": [
      "\u001b[0;31m---------------------------------------------------------------------------\u001b[0m",
      "\u001b[0;31mNameError\u001b[0m                                 Traceback (most recent call last)",
      "\u001b[0;32m/var/folders/fr/0xypwjmj4zx83hqz91x7fc_c0000gn/T/ipykernel_12461/3624346776.py\u001b[0m in \u001b[0;36m<module>\u001b[0;34m\u001b[0m\n\u001b[0;32m----> 1\u001b[0;31m \u001b[0mremove_missing_values\u001b[0m\u001b[0;34m(\u001b[0m\u001b[0mall_ages_df\u001b[0m\u001b[0;34m,\u001b[0m \u001b[0mall_ages\u001b[0m\u001b[0;34m)\u001b[0m\u001b[0;34m\u001b[0m\u001b[0;34m\u001b[0m\u001b[0m\n\u001b[0m\u001b[1;32m      2\u001b[0m \u001b[0mremove_missing_values\u001b[0m\u001b[0;34m(\u001b[0m\u001b[0mrecent_grads_df\u001b[0m\u001b[0;34m,\u001b[0m \u001b[0mrecent_grads\u001b[0m\u001b[0;34m)\u001b[0m\u001b[0;34m\u001b[0m\u001b[0;34m\u001b[0m\u001b[0m\n\u001b[1;32m      3\u001b[0m \u001b[0mremove_missing_values\u001b[0m\u001b[0;34m(\u001b[0m\u001b[0mgrad_students_df\u001b[0m\u001b[0;34m,\u001b[0m \u001b[0mgrad_students\u001b[0m\u001b[0;34m)\u001b[0m\u001b[0;34m\u001b[0m\u001b[0;34m\u001b[0m\u001b[0m\n\u001b[1;32m      4\u001b[0m \u001b[0mremove_missing_values\u001b[0m\u001b[0;34m(\u001b[0m\u001b[0mmajors_list_df\u001b[0m\u001b[0;34m,\u001b[0m \u001b[0mmajors_list\u001b[0m\u001b[0;34m)\u001b[0m\u001b[0;34m\u001b[0m\u001b[0;34m\u001b[0m\u001b[0m\n\u001b[1;32m      5\u001b[0m \u001b[0mremove_missing_values\u001b[0m\u001b[0;34m(\u001b[0m\u001b[0mwomen_stem_df\u001b[0m\u001b[0;34m,\u001b[0m \u001b[0mwomen_stem\u001b[0m\u001b[0;34m)\u001b[0m\u001b[0;34m\u001b[0m\u001b[0;34m\u001b[0m\u001b[0m\n",
      "\u001b[0;32m/var/folders/fr/0xypwjmj4zx83hqz91x7fc_c0000gn/T/ipykernel_12461/279597713.py\u001b[0m in \u001b[0;36mremove_missing_values\u001b[0;34m(df, df_name)\u001b[0m\n\u001b[1;32m      8\u001b[0m     \u001b[0;31m#Now again let's check the no. of records we have\u001b[0m\u001b[0;34m\u001b[0m\u001b[0;34m\u001b[0m\u001b[0;34m\u001b[0m\u001b[0m\n\u001b[1;32m      9\u001b[0m     \u001b[0mcleaned_data_len\u001b[0m \u001b[0;34m=\u001b[0m \u001b[0mlen\u001b[0m\u001b[0;34m(\u001b[0m\u001b[0mdf\u001b[0m\u001b[0;34m)\u001b[0m\u001b[0;34m\u001b[0m\u001b[0;34m\u001b[0m\u001b[0m\n\u001b[0;32m---> 10\u001b[0;31m     \u001b[0mprint\u001b[0m\u001b[0;34m(\u001b[0m\u001b[0;34m\"After removing the missing data and null values, the dataset '{}' has {} number of records\\n\"\u001b[0m\u001b[0;34m.\u001b[0m\u001b[0mformat\u001b[0m\u001b[0;34m(\u001b[0m\u001b[0mdf_name\u001b[0m\u001b[0;34m,\u001b[0m \u001b[0mcleaned_data_count\u001b[0m\u001b[0;34m)\u001b[0m\u001b[0;34m)\u001b[0m\u001b[0;34m\u001b[0m\u001b[0;34m\u001b[0m\u001b[0m\n\u001b[0m",
      "\u001b[0;31mNameError\u001b[0m: name 'cleaned_data_count' is not defined"
     ]
    }
   ],
   "source": [
    "remove_missing_values(all_ages_df, all_ages)\n",
    "remove_missing_values(recent_grads_df, recent_grads)\n",
    "remove_missing_values(grad_students_df, grad_students)\n",
    "remove_missing_values(majors_list_df, majors_list)\n",
    "remove_missing_values(women_stem_df, women_stem)"
   ]
  },
  {
   "cell_type": "code",
   "execution_count": null,
   "id": "7917b5da",
   "metadata": {},
   "outputs": [],
   "source": [
    "all_ages_df.head(10)"
   ]
  },
  {
   "cell_type": "code",
   "execution_count": null,
   "id": "878f9ea6",
   "metadata": {},
   "outputs": [],
   "source": [
    "rows, cols = all_ages_df.shape\n",
    "\n",
    "print(\"The number of rows:\", rows)\n",
    "print(\"The number of columns:\", cols)"
   ]
  },
  {
   "cell_type": "code",
   "execution_count": null,
   "id": "a94ecf66",
   "metadata": {},
   "outputs": [],
   "source": [
    "grad_students_df.head(10)"
   ]
  },
  {
   "cell_type": "code",
   "execution_count": null,
   "id": "f15e7f4e",
   "metadata": {},
   "outputs": [],
   "source": [
    "recent_grads_df.head(10)"
   ]
  },
  {
   "cell_type": "code",
   "execution_count": null,
   "id": "a49493f6",
   "metadata": {},
   "outputs": [],
   "source": [
    "majors_list_df.head(10)"
   ]
  },
  {
   "cell_type": "code",
   "execution_count": null,
   "id": "a3c22f95",
   "metadata": {},
   "outputs": [],
   "source": [
    "women_stem_df.head(10)"
   ]
  },
  {
   "cell_type": "markdown",
   "id": "313df2a5",
   "metadata": {},
   "source": [
    "# Summary statistics:"
   ]
  },
  {
   "cell_type": "markdown",
   "id": "b5fd817e",
   "metadata": {},
   "source": [
    "**recent-grads.csv**"
   ]
  },
  {
   "cell_type": "code",
   "execution_count": null,
   "id": "1e83ff23",
   "metadata": {},
   "outputs": [],
   "source": [
    "recent_grads_df.describe()"
   ]
  },
  {
   "cell_type": "markdown",
   "id": "ad112339",
   "metadata": {},
   "source": [
    "**majors-list.csv**"
   ]
  },
  {
   "cell_type": "code",
   "execution_count": null,
   "id": "e7092523",
   "metadata": {},
   "outputs": [],
   "source": [
    "majors_list_df.describe()"
   ]
  },
  {
   "cell_type": "markdown",
   "id": "75d4088e",
   "metadata": {},
   "source": [
    "**all-ages.csv**"
   ]
  },
  {
   "cell_type": "code",
   "execution_count": null,
   "id": "5a2e1ca0",
   "metadata": {},
   "outputs": [],
   "source": [
    "all_ages_df.describe()"
   ]
  },
  {
   "cell_type": "markdown",
   "id": "4da25419",
   "metadata": {},
   "source": [
    "**women-stem.csv**"
   ]
  },
  {
   "cell_type": "code",
   "execution_count": null,
   "id": "d7605b9d",
   "metadata": {},
   "outputs": [],
   "source": [
    "women_stem_df.describe()"
   ]
  },
  {
   "cell_type": "markdown",
   "id": "01d5c94b",
   "metadata": {},
   "source": [
    "**grad-students.csv**"
   ]
  },
  {
   "cell_type": "code",
   "execution_count": null,
   "id": "60815135",
   "metadata": {},
   "outputs": [],
   "source": [
    "grad_students_df.describe()"
   ]
  },
  {
   "cell_type": "markdown",
   "id": "5469960b",
   "metadata": {},
   "source": [
    "# Analysis and Visualization"
   ]
  },
  {
   "cell_type": "markdown",
   "id": "088f57e2",
   "metadata": {},
   "source": [
    "**grad-students.csv**"
   ]
  },
  {
   "cell_type": "code",
   "execution_count": null,
   "id": "79afa03a",
   "metadata": {
    "scrolled": true
   },
   "outputs": [],
   "source": [
    "# Plot Correlation matrix\n",
    "def plot_CorrMatrix(df, csv_name):\n",
    "    corr = df.corr()\n",
    "    corr.style.background_gradient(cmap='coolwarm')\n",
    "    fig, ax = plt.subplots(figsize=(8, 8))\n",
    "    ax.matshow(corr)\n",
    "    plt.xticks(range(len(corr.columns)), corr.columns, rotation=90)\n",
    "    plt.yticks(range(len(corr.columns)), corr.columns)\n",
    "    plt.gca().xaxis.tick_bottom()  # to make sure label appears at the bottom\n",
    "    plt.title(f'Correlation Matrix for {csv_name}', fontsize=18)\n",
    "    \n",
    "    plt.show()"
   ]
  },
  {
   "cell_type": "code",
   "execution_count": null,
   "id": "9681ce1f",
   "metadata": {},
   "outputs": [],
   "source": [
    "plot_CorrMatrix(grad_students_df, grad_students)"
   ]
  },
  {
   "cell_type": "markdown",
   "id": "fe23b36f",
   "metadata": {},
   "source": [
    "**recent-grads.csv**"
   ]
  },
  {
   "cell_type": "code",
   "execution_count": null,
   "id": "a52cfe7b",
   "metadata": {},
   "outputs": [],
   "source": [
    "plot_CorrMatrix(recent_grads_df, recent_grads)"
   ]
  },
  {
   "cell_type": "markdown",
   "id": "81c15f7e",
   "metadata": {},
   "source": [
    "# Majors with median salary above $60,000"
   ]
  },
  {
   "cell_type": "code",
   "execution_count": null,
   "id": "f9ad8692",
   "metadata": {},
   "outputs": [],
   "source": [
    "high_median_salary = recent_grads_df[recent_grads_df[\"Median\"] > 60000].sort_values(\"Median\")\n",
    "high_median_salary.plot(x=\"Major\", y=[\"P25th\", \"Median\", \"P75th\"], kind=\"bar\", figsize=(8,8))\n",
    "\n",
    "plt.show()"
   ]
  },
  {
   "cell_type": "markdown",
   "id": "df0a890d",
   "metadata": {},
   "source": [
    "### From the above bar chart, it is evident that the Petroleum Engineering major graduates got paid the highest out all other majors with a median salary of over $100,000. "
   ]
  },
  {
   "cell_type": "code",
   "execution_count": null,
   "id": "89240d4a",
   "metadata": {},
   "outputs": [],
   "source": [
    "recent_grads_df.plot(x=\"Rank\", y=[\"P25th\", \"Median\", \"P75th\"], figsize=(8,8))\n",
    "plt.show()"
   ]
  },
  {
   "cell_type": "markdown",
   "id": "0e78b29c",
   "metadata": {},
   "source": [
    "### From the above plot, we can make the following observations:\n",
    "1. **Median income decreases as the rank decreases since the rank determines the median income**\n",
    "2. **Some of the majors in the figure have large gaps between the 25th and 75th percentiles. This shows that graduates  with those degrees may earn notably lower or notably higher than the mdedian income.**\n",
    "3. **All remaining majors have very small gaps between the 25th and 75th percentiles which means that the salary of the graduates with those degrees is very close to the median income.**"
   ]
  },
  {
   "cell_type": "markdown",
   "id": "9b584365",
   "metadata": {},
   "source": [
    "## Creating Scatter plots to analyze the relationships between different columns in the recent_grads dataset"
   ]
  },
  {
   "cell_type": "code",
   "execution_count": null,
   "id": "d3906cb5",
   "metadata": {},
   "outputs": [],
   "source": [
    "# Total v/ Employed\n",
    "\n",
    "# to exclude the tail of the series from analysis\n",
    "recent_grads_modified=recent_grads_df[recent_grads_df[\"Total\"]< recent_grads_df[\"Total\"].quantile(0.9)]\n",
    "\n",
    "recent_grads_modified.plot(x='Total', y='Employed', kind='scatter', title=\"Total v/s Employed (reduced dataset)\", figsize=(8,8))\n",
    "plt.show()"
   ]
  },
  {
   "cell_type": "markdown",
   "id": "5c781f73",
   "metadata": {},
   "source": [
    "### The above scatter plot between Total v/s Employed shows a strong positive correlation. However, we should not forget that correlation doesn't imply causation."
   ]
  },
  {
   "cell_type": "code",
   "execution_count": null,
   "id": "7f13c880",
   "metadata": {},
   "outputs": [],
   "source": [
    "#Sample_size v/s Median\n",
    "\n",
    "recent_grads_df.plot(x='Sample_size', y='Median', kind='scatter', title='Sample_size v/s Median', figsize=(8,8))\n",
    "plt.show()"
   ]
  },
  {
   "cell_type": "markdown",
   "id": "3eb8fcf3",
   "metadata": {},
   "source": [
    "### From the above scatter plot, we can see that:\n",
    "1. **Median salaries of the full time employees varies greatly in the lower tier of the sample size**\n",
    "2. **We can't see any linear relation between the sample size and the median salary**"
   ]
  },
  {
   "cell_type": "markdown",
   "id": "60e8af1f",
   "metadata": {},
   "source": [
    "### Scatter plot with Median and ShareWomen"
   ]
  },
  {
   "cell_type": "code",
   "execution_count": null,
   "id": "a7136e7e",
   "metadata": {},
   "outputs": [],
   "source": [
    "plt.figure(figsize=(10,10))\n",
    "plt.ylim(0,100000)\n",
    "\n",
    "sns.regplot(x='ShareWomen', y='Median', data=recent_grads_df, scatter=False)\n",
    "sns.scatterplot(x='ShareWomen', y='Median', data=recent_grads_df, hue='Major_category',\n",
    "                size='Sample_size', sizes=(10, 800), alpha=0.5, palette='bright')\n",
    "\n",
    "plt.show()"
   ]
  },
  {
   "cell_type": "markdown",
   "id": "46722ed6",
   "metadata": {},
   "source": [
    "### From the above Scatterplot, we can see the following observations:\n",
    "* Slightly but surely we can see a negative correlation between Median and ShareWomen\n",
    "* The health sector seems like a clear outlier as it has a high ShareWomen along with a high Median salary.\n",
    "* Petroleum Engineering despite of a small sample size has the highest Median salary."
   ]
  },
  {
   "cell_type": "markdown",
   "id": "a2d6142c",
   "metadata": {},
   "source": [
    "# Data Distribution"
   ]
  },
  {
   "cell_type": "code",
   "execution_count": null,
   "id": "69ede194",
   "metadata": {},
   "outputs": [],
   "source": [
    "columns = [\"Sample_size\", \"Median\", \"Employed\", \"Full_time\", \"ShareWomen\", \"Unemployment_rate\", \"Men\", \"Women\"]\n",
    "\n",
    "figure = plt.figure(figsize=(7,25))\n",
    "for i in range(0,4):\n",
    "    ax = figure.add_subplot(4,1,i+1)\n",
    "    ax.set_xlabel(columns[i])\n",
    "    ax = recent_grads_df[columns[i]].plot(kind='hist', rot=30)\n",
    "    \n",
    "figure = plt.figure(figsize=(7,25))\n",
    "for i in range(4,8):\n",
    "    ax = figure.add_subplot(4,1,i-3)\n",
    "    ax.set_xlabel(columns[i])\n",
    "    ax = recent_grads_df[columns[i]].plot(kind='hist', rot=30)"
   ]
  },
  {
   "cell_type": "markdown",
   "id": "b8f35ba6",
   "metadata": {},
   "source": [
    "### From the above histograms, we can conclude that:\n",
    "1. **From the sample size histogram, it is clearly visible that the majority of the sample size of full-time workers is notably less than 500**\n",
    "2. **From the Median salary histogram, we can see that the median salary range of recent graduates lies between \\\\$30,000- \\\\$40,000**\n",
    "3. **From the employed column histogram, we can see that less than 50,000 graduate students were able to find some kind of employment** \n",
    "4. **From the Full_time histogram, we can see that number of full time employees is less than 25,000**\n",
    "5. **From the ShareWomen histogram, we can see that share of the women in the total lies in the range of 0.2%-0.75%**\n",
    "6. **We can see that the unemployment rate has never exceeded over 17.7% from the unemployment_rate histogram**\n",
    "7. **The last 2 histograms which are number of men and number of women shows us that the number of men is notably similar to the number of women**"
   ]
  },
  {
   "cell_type": "markdown",
   "id": "849b92df",
   "metadata": {},
   "source": [
    "# Bar Plots"
   ]
  },
  {
   "cell_type": "markdown",
   "id": "be325b92",
   "metadata": {},
   "source": [
    "## Unemployment rate for top 10 ranking majors based on median salary"
   ]
  },
  {
   "cell_type": "code",
   "execution_count": null,
   "id": "b8db8f58",
   "metadata": {},
   "outputs": [],
   "source": [
    "# slicing the list up to 10 will give us top 10 ranked majors\n",
    "recent_grads_df[:10].plot.bar(x='Major', y='Unemployment_rate', figsize=(8,8))\n",
    "\n",
    "plt.title(\"Unemployment_rate based on Major\")\n",
    "plt.ylabel(\"Unemployment_rate\")\n",
    "\n",
    "plt.show()"
   ]
  },
  {
   "cell_type": "markdown",
   "id": "f07be00a",
   "metadata": {},
   "source": [
    "### From the above Bar plot, we can see that unemployment rate for the top 10 ranked majors is notably low. However, Nuclear Engineering looks like a slight outlier as it has a significantly higher unemployment rate compared to other top 10 ranked majors based on the median salary."
   ]
  },
  {
   "cell_type": "markdown",
   "id": "c647c8e3",
   "metadata": {},
   "source": [
    "## Unemployment rate for the 10 least ranked majors based on median salary"
   ]
  },
  {
   "cell_type": "code",
   "execution_count": null,
   "id": "d1eb9bca",
   "metadata": {},
   "outputs": [],
   "source": [
    "# slicing the list from 163 to the end since there are 173 total majors will give us least 10 ranked majors\n",
    "recent_grads_df[163:].plot.bar(x='Major', y='Unemployment_rate', figsize=(8,8))\n",
    "\n",
    "plt.title(\"Unemployment Rate based on Major\")\n",
    "plt.ylabel(\"Unemployment_rate\")\n",
    "plt.show()"
   ]
  },
  {
   "cell_type": "markdown",
   "id": "566ba66f",
   "metadata": {},
   "source": [
    "### From the above Bar plot, we can also see that out of 10 least ranked majors, Clinical Psychology looks has the highest unemployment rate followed by Library Science and Other Foreign Languages."
   ]
  },
  {
   "cell_type": "markdown",
   "id": "34a5a8e8",
   "metadata": {},
   "source": [
    "## ShareWomen(women as share of total) for the top 10 ranked majors based on median salary"
   ]
  },
  {
   "cell_type": "code",
   "execution_count": null,
   "id": "62f60879",
   "metadata": {},
   "outputs": [],
   "source": [
    "# slicing the list up to 10 will give us the top 10 ranked majors\n",
    "recent_grads_df[:10].plot.bar(x='Major', y='ShareWomen', figsize=(8,8))\n",
    "\n",
    "plt.title(\"ShareWomen based on Major\")\n",
    "plt.ylabel(\"ShareWomen\")\n",
    "plt.show()"
   ]
  },
  {
   "cell_type": "markdown",
   "id": "8c28c418",
   "metadata": {},
   "source": [
    "### From the above Bar plot, we can see that the top 10 ranking Majors based on Median Salary are notably dominated by males. It is also evident that 7 out of the 10 top ranked Majors has less than 20% female graduates. Astronomy and Astrophysics has notably high womenshare out all other top 10 ranked majors."
   ]
  },
  {
   "cell_type": "markdown",
   "id": "e54ad0d2",
   "metadata": {},
   "source": [
    "## ShareWomen(women as share of total) for the 10 least ranked majors based on median salary"
   ]
  },
  {
   "cell_type": "code",
   "execution_count": null,
   "id": "ddd3693b",
   "metadata": {},
   "outputs": [],
   "source": [
    "# slicing the list from 163 to the end since there are 173 total majors will give us least 10 ranked majors\n",
    "recent_grads_df[163:].plot.bar(x='Major', y='ShareWomen', figsize=(8,8))\n",
    "\n",
    "plt.title(\"ShareWomen by Major\")\n",
    "plt.ylabel(\"ShareWomen\")\n",
    "plt.show()"
   ]
  },
  {
   "cell_type": "markdown",
   "id": "1782b175",
   "metadata": {},
   "source": [
    "### From the above Bar plot, we can clearly see that the 10 least ranked Majors are dominated by Female graduates. There are more than 60% female graduates in the 10 least ranked majors based on the median salary."
   ]
  },
  {
   "cell_type": "markdown",
   "id": "924c3f7c",
   "metadata": {},
   "source": [
    "# Top 10 Popular Majors"
   ]
  },
  {
   "cell_type": "code",
   "execution_count": null,
   "id": "c6feabab",
   "metadata": {},
   "outputs": [],
   "source": [
    "# ascending is set to False as we want top 10 \n",
    "top_10_popular =recent_grads_df.sort_values(by=\"Total\",axis=0,ascending=False)\n",
    "\n",
    "fig, ax = plt.subplots(figsize=(8,8))\n",
    "\n",
    "# barh is used to to make a horizontal bar plot\n",
    "ax.barh(top_10_popular[\"Major\"][:10],top_10_popular[\"Total\"][:10] )\n",
    "# slicing all the list to 10 since we want top 10 majors\n",
    "ax.set_yticks(top_10_popular[\"Major\"][:10])\n",
    "ax.set_yticklabels(top_10_popular[\"Major\"][:10])\n",
    "ax.invert_yaxis()  # to read the labels from top-to-bottom\n",
    "ax.set_xlabel('Total Students')\n",
    "ax.set_title('Top 10 Majors')\n",
    "\n",
    "plt.show()"
   ]
  },
  {
   "cell_type": "markdown",
   "id": "8a4bff10",
   "metadata": {},
   "source": [
    "### Hence, from the above plot we can conclude that Psychology is the most popular major out of all other majors.  Political Science and Government is the last major on the top 10 popular majors as it barely made to the top 10 popular majors list."
   ]
  },
  {
   "cell_type": "markdown",
   "id": "9520d552",
   "metadata": {},
   "source": [
    "# 10 Least Popular Majors"
   ]
  },
  {
   "cell_type": "code",
   "execution_count": null,
   "id": "0decde31",
   "metadata": {},
   "outputs": [],
   "source": [
    "# ascending is set to true to get the least 10 popular majors\n",
    "least_10_popular = recent_grads_df.sort_values(by=\"Total\",axis=0,ascending=True)\n",
    "\n",
    "fig, ax = plt.subplots(figsize=(8,8))\n",
    "\n",
    "# barh to make a horizontal bar plot\n",
    "ax.barh(least_10_popular[\"Major\"][:10],least_10_popular[\"Total\"][:10])\n",
    "ax.set_yticks(least_10_popular[\"Major\"][:10])\n",
    "ax.set_yticklabels(least_10_popular[\"Major\"][:10])\n",
    "ax.invert_yaxis()  # labels read top-to-bottom\n",
    "ax.set_xlabel('Total Students')\n",
    "ax.set_title('Least 10 popular Majos')\n",
    "plt.show()"
   ]
  },
  {
   "cell_type": "markdown",
   "id": "270c4ee4",
   "metadata": {},
   "source": [
    "### Hence, from the above plot we can conclude that Military Technologies is the least popular major out of all other majors and Court Reporting is at the bottom of top 10 least popular majors"
   ]
  },
  {
   "cell_type": "markdown",
   "id": "9cded79b",
   "metadata": {},
   "source": [
    "# 15 Most Popular majors breakdown by gender"
   ]
  },
  {
   "cell_type": "code",
   "execution_count": null,
   "id": "64b17cb6",
   "metadata": {},
   "outputs": [],
   "source": [
    "# head is set to 15 to get top 15 majors\n",
    "graduates_major_grouping = recent_grads_df.groupby('Major').sum().sort_values('Total', ascending=False).head(15).reset_index()\n",
    "\n",
    "major_gender_df = graduates_major_grouping.sort_values('Total')[['Major', 'Men', 'Women']]\n",
    "major_gender_df.set_index('Major', inplace=True)\n",
    "major_gender_df.plot(kind='barh', stacked=True, figsize=(8,8), width=0.6)\n",
    "\n",
    "plt.xlabel('Total')\n",
    "plt.title('Top 15 most popular majors with gender breakdown', fontdict={'fontsize': 20})\n",
    "plt.show()"
   ]
  },
  {
   "cell_type": "markdown",
   "id": "f8235395",
   "metadata": {},
   "source": [
    "### From the above plot, we can see that:\n",
    "* Psychology seems to be the most popular major which is highly skewed towards women\n",
    "* Business Management & Administration and General Business are split evenly among both men and women\n",
    "* Computer Science seems to be highly skewed towards men\n",
    "* Nursing, Elementary Education and General Education are the most skewed towards Women out of all the majors"
   ]
  },
  {
   "cell_type": "markdown",
   "id": "5d97b494",
   "metadata": {},
   "source": [
    "# Median salary variation in each Major category"
   ]
  },
  {
   "cell_type": "code",
   "execution_count": null,
   "id": "caa22118",
   "metadata": {},
   "outputs": [],
   "source": [
    "plt.figure(figsize=(8,8))\n",
    "sns.set_style('whitegrid')\n",
    "\n",
    "variation = recent_grads_df.loc[:, ['Major_category', 'Median']].groupby('Major_category').median() .sort_values(by='Median', ascending=False)\n",
    "\n",
    "sns.boxplot(x='Median', y='Major_category', data=recent_grads_df, order=variation.index)\n",
    "plt.show()"
   ]
  },
  {
   "cell_type": "markdown",
   "id": "2d3d3364",
   "metadata": {},
   "source": [
    "### From the above plot, we can see that:\n",
    "1. **Out of all the major categories, STEM Majors along with Business majors are the highest paid majors.**\n",
    "2. **Engineering is at the top of the list and the engineering graduates have a salary which varies between \\\\$40,000 and just below \\\\$78,000 with the median salary at just below \\\\$60,000**\n",
    "3. **We can also see that most women prefer to go in the Engineering field as it is a less favorable major category by the Women**"
   ]
  },
  {
   "cell_type": "markdown",
   "id": "7e10dc6d",
   "metadata": {},
   "source": [
    "# Methods"
   ]
  },
  {
   "cell_type": "markdown",
   "id": "7ed79ef3",
   "metadata": {},
   "source": [
    "## 1. Clustering (DBSCAN)"
   ]
  },
  {
   "cell_type": "code",
   "execution_count": null,
   "id": "1e914456",
   "metadata": {},
   "outputs": [],
   "source": [
    "from sklearn import preprocessing\n",
    "\n",
    "grad_students_clone = grad_students_df.copy()\n",
    "grad_students_clone[\"employment_rate\"] = grad_students_clone[\"Grad_employed\"]/(grad_students_clone[\"Grad_employed\"]+grad_students_clone[\"Grad_unemployed\"])\n",
    "\n",
    "# Label encoding major category values\n",
    "le = preprocessing.LabelEncoder()\n",
    "grad_students_clone[\"Major_category_labelled\"] = grad_students_clone[[\"Major_category\"]].apply(le.fit_transform)"
   ]
  },
  {
   "cell_type": "code",
   "execution_count": null,
   "id": "d7e741ed",
   "metadata": {},
   "outputs": [],
   "source": [
    "def print_labelled_categories(df):\n",
    "    dict = {}\n",
    "    for index, row in df.iterrows():\n",
    "        if row[\"Major_category_labelled\"] not in dict:\n",
    "            dict[row[\"Major_category_labelled\"]] = row[\"Major_category\"]\n",
    "    \n",
    "    print(\"Mapping of Major_category\\n\")\n",
    "    for key in sorted(dict):\n",
    "        print(\"%s: %s\" % (key, dict[key]))\n",
    "\n",
    "print_labelled_categories(grad_students_clone)"
   ]
  },
  {
   "cell_type": "code",
   "execution_count": null,
   "id": "4656b3b8",
   "metadata": {},
   "outputs": [],
   "source": [
    "from sklearn.cluster import DBSCAN\n",
    "# from sklearn.preprocessing import StandardScaler\n",
    "\n",
    "# Compute DBSCAN\n",
    "def dbscan(X, eps, min_samples):\n",
    "    # X = StandardScaler().fit_transform(X)\n",
    "    db = DBSCAN(eps=eps, min_samples=min_samples)\n",
    "    db.fit(X)\n",
    "    labels = db.labels_\n",
    "    n_clusters_ = len(set(labels))\n",
    "    y_pred = db.fit_predict(X)\n",
    "    plt.scatter(X[:,0], X[:,1],c=y_pred, cmap='Paired')\n",
    "    plt.title(\"Estimated number of clusters: {}\".format(n_clusters_))"
   ]
  },
  {
   "cell_type": "code",
   "execution_count": null,
   "id": "6b4f5382",
   "metadata": {},
   "outputs": [],
   "source": [
    "transformed_grad_1 = grad_students_clone[[\"Grad_median\",\"Major_category_labelled\"]].copy()\n",
    "dbscan(transformed_grad_1.values, 2000, 4)"
   ]
  },
  {
   "cell_type": "code",
   "execution_count": null,
   "id": "52abfdee",
   "metadata": {
    "scrolled": true
   },
   "outputs": [],
   "source": [
    "transformed_grad_2 = grad_students_clone[[\"employment_rate\",\"Major_category_labelled\"]].copy()\n",
    "dbscan(transformed_grad_2.values, 0.005, 4)"
   ]
  },
  {
   "cell_type": "markdown",
   "id": "dedd3bf7",
   "metadata": {},
   "source": [
    "### From the above two graphs, we can see that:\n",
    "1. **Most of the majors are likely to pay graduate students between \\\\$60,000-\\\\$80,000 except category 1 and 6 (Arts, Education)**\n",
    "2. **Employment rates are pretty high in category 6, but it is infeasible considering the median pay**\n",
    "3. **From graph 2 we can decipher that even though certain majors fall under the same category, the employment opprtunities vary vastly (category 1,5,10)**\n",
    "4. **Category 13 (Physical Sciences) seems to be the safest choice with good pay and employment opportunities. But if one is willing to aim for a high end salary, category 7 (Engineering) is a good choice as it pays better than every other category, but some majors have lower employment than others**"
   ]
  },
  {
   "cell_type": "code",
   "execution_count": null,
   "id": "cf0c62af",
   "metadata": {},
   "outputs": [],
   "source": []
  }
 ],
 "metadata": {
  "kernelspec": {
   "display_name": "Python 3 (ipykernel)",
   "language": "python",
   "name": "python3"
  },
  "language_info": {
   "codemirror_mode": {
    "name": "ipython",
    "version": 3
   },
   "file_extension": ".py",
   "mimetype": "text/x-python",
   "name": "python",
   "nbconvert_exporter": "python",
   "pygments_lexer": "ipython3",
   "version": "3.8.8"
  }
 },
 "nbformat": 4,
 "nbformat_minor": 5
}
